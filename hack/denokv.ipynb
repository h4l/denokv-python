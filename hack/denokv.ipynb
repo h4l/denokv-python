{
 "cells": [
  {
   "cell_type": "code",
   "execution_count": 3,
   "id": "45ba9fef-e6b5-40d0-9a84-59208c530763",
   "metadata": {},
   "outputs": [],
   "source": [
    "import os\n",
    "from aiohttp import ClientSession\n",
    "from denokv.auth import get_database_metadata"
   ]
  },
  {
   "cell_type": "code",
   "execution_count": 4,
   "id": "48de762c-05bd-49f9-9d34-e231660cb4d9",
   "metadata": {},
   "outputs": [],
   "source": [
    "session = ClientSession()\n",
    "server_url = 'http://denokv:4512'\n",
    "access_token = os.environ['DENOKV_PYTHON_DENOKV_ACCESS_TOKEN']"
   ]
  },
  {
   "cell_type": "code",
   "execution_count": 6,
   "id": "052a7bbc-d2c2-40bb-9bd2-ca53010c2776",
   "metadata": {},
   "outputs": [],
   "source": [
    "db_meta = await get_database_metadata(session=session, server_url=server_url, access_token=access_token)"
   ]
  },
  {
   "cell_type": "code",
   "execution_count": 7,
   "id": "362123b9-689f-4074-bcab-67dc615caa1a",
   "metadata": {},
   "outputs": [
    {
     "data": {
      "text/plain": [
       "DatabaseMetadata(version=3, database_id=UUID('00000000-0000-0000-0000-000000000000'), endpoints=(EndpointInfo(url=URL('http://denokv:4512/v2'), consistency=<ConsistencyLevel.STRONG: 'strong'>),), token='hU86Re2bgI9sC26QHBwo', expires_at=datetime.datetime(2024, 9, 23, 4, 6, 59, 715983, tzinfo=datetime.timezone.utc))"
      ]
     },
     "execution_count": 7,
     "metadata": {},
     "output_type": "execute_result"
    }
   ],
   "source": [
    "db_meta"
   ]
  },
  {
   "cell_type": "code",
   "execution_count": 8,
   "id": "ce085ae4-8b59-453c-a549-eaeca81f215c",
   "metadata": {},
   "outputs": [],
   "source": [
    "from denokv.datapath import snapshot_read, snapshot_read_for_get"
   ]
  },
  {
   "cell_type": "code",
   "execution_count": 11,
   "id": "e84ad92b-cb1d-452a-8151-0bfed1eca419",
   "metadata": {},
   "outputs": [],
   "source": [
    "msg_42_read = snapshot_read_for_get(('messages', 42))"
   ]
  },
  {
   "cell_type": "code",
   "execution_count": 12,
   "id": "93c5e769-7a77-4f98-9725-7f3679731746",
   "metadata": {},
   "outputs": [
    {
     "data": {
      "text/plain": [
       "ranges {\n",
       "  start: \"\\002messages\\000\\025*\"\n",
       "  end: \"\\377\"\n",
       "  limit: 1\n",
       "}"
      ]
     },
     "execution_count": 12,
     "metadata": {},
     "output_type": "execute_result"
    }
   ],
   "source": [
    "msg_42_read"
   ]
  },
  {
   "cell_type": "code",
   "execution_count": 13,
   "id": "d52a3714-ad83-4cf2-9e3f-7cf20aebefb6",
   "metadata": {},
   "outputs": [],
   "source": [
    "read_output = await snapshot_read(session=session, meta=db_meta, endpoint=db_meta.endpoints[0], read=msg_42_read)"
   ]
  },
  {
   "cell_type": "code",
   "execution_count": 14,
   "id": "bdcbfc20-8187-44cb-b0a4-2ff962f082ea",
   "metadata": {},
   "outputs": [
    {
     "data": {
      "text/plain": [
       "ranges {\n",
       "  values {\n",
       "    key: \"\\002messages\\000!\\300D\\000\\000\\000\\000\\000\\000\"\n",
       "    value: \"\\377\\017o\"\\003xxxA\\002\"\\003WTF;\"\\001aI\\002\"\\001bI\\004:\\004$\\000\\002{\\001\"\n",
       "    encoding: VE_V8\n",
       "    versionstamp: \"\\000\\000\\000\\000\\000\\000\\000.\\000\\000\"\n",
       "  }\n",
       "}\n",
       "read_is_strongly_consistent: true\n",
       "status: SR_SUCCESS"
      ]
     },
     "execution_count": 14,
     "metadata": {},
     "output_type": "execute_result"
    }
   ],
   "source": [
    "read_output"
   ]
  },
  {
   "cell_type": "code",
   "execution_count": 20,
   "id": "7acdc098-dc90-4f0d-99a2-d3b8a94364a3",
   "metadata": {},
   "outputs": [
    {
     "data": {
      "text/plain": [
       "b'\\xff\\x0fo\"\\x03xxxA\\x02\"\\x03WTF;\"\\x01aI\\x02\"\\x01bI\\x04:\\x04$\\x00\\x02{\\x01'"
      ]
     },
     "execution_count": 20,
     "metadata": {},
     "output_type": "execute_result"
    }
   ],
   "source": [
    "read_output.ranges[0].values[0].value"
   ]
  },
  {
   "cell_type": "code",
   "execution_count": 21,
   "id": "493eeb79-91f1-421b-b73d-c98df8ec0bac",
   "metadata": {},
   "outputs": [],
   "source": [
    "import v8serialize"
   ]
  },
  {
   "cell_type": "code",
   "execution_count": 22,
   "id": "9b975342-275b-45f6-bea2-56237df87786",
   "metadata": {},
   "outputs": [
    {
     "data": {
      "text/plain": [
       "JSObject(\n",
       "  xxx=JSArray([\n",
       "    'WTF',\n",
       "    JSMap({\n",
       "      'a': 1,\n",
       "      'b': 2,\n",
       "    }),\n",
       "  ]),\n",
       ")"
      ]
     },
     "execution_count": 22,
     "metadata": {},
     "output_type": "execute_result"
    }
   ],
   "source": [
    "v8serialize.loads(read_output.ranges[0].values[0].value)"
   ]
  },
  {
   "cell_type": "code",
   "execution_count": null,
   "id": "a4e8e282-00c7-4e64-b311-a800ed3fd455",
   "metadata": {},
   "outputs": [],
   "source": []
  }
 ],
 "metadata": {
  "kernelspec": {
   "display_name": "Python 3 (ipykernel)",
   "language": "python",
   "name": "python3"
  },
  "language_info": {
   "codemirror_mode": {
    "name": "ipython",
    "version": 3
   },
   "file_extension": ".py",
   "mimetype": "text/x-python",
   "name": "python",
   "nbconvert_exporter": "python",
   "pygments_lexer": "ipython3",
   "version": "3.12.5"
  }
 },
 "nbformat": 4,
 "nbformat_minor": 5
}
